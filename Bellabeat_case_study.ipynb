{
  "nbformat": 4,
  "nbformat_minor": 0,
  "metadata": {
    "colab": {
      "provenance": []
    },
    "kernelspec": {
      "name": "ir",
      "display_name": "R"
    },
    "language_info": {
      "name": "R"
    }
  },
  "cells": [
    {
      "cell_type": "code",
      "source": [
        "install.packages(\"tidyverse\");"
      ],
      "metadata": {
        "id": "Z03TY7Xc1Ipp",
        "outputId": "34f8730c-86a9-4232-9744-4c5966055810",
        "colab": {
          "base_uri": "https://localhost:8080/"
        }
      },
      "execution_count": null,
      "outputs": [
        {
          "output_type": "stream",
          "name": "stderr",
          "text": [
            "Installing package into ‘/usr/local/lib/R/site-library’\n",
            "(as ‘lib’ is unspecified)\n",
            "\n",
            "also installing the dependencies ‘textshaping’, ‘conflicted’, ‘jsonlite’, ‘ragg’\n",
            "\n",
            "\n",
            "Warning message in install.packages(\"tidyverse\"):\n",
            "“installation of package ‘textshaping’ had non-zero exit status”\n",
            "Warning message in install.packages(\"tidyverse\"):\n",
            "“installation of package ‘ragg’ had non-zero exit status”\n",
            "Warning message in install.packages(\"tidyverse\"):\n",
            "“installation of package ‘tidyverse’ had non-zero exit status”\n"
          ]
        }
      ]
    },
    {
      "cell_type": "code",
      "source": [
        "library(tidyverse);"
      ],
      "metadata": {
        "colab": {
          "base_uri": "https://localhost:8080/"
        },
        "id": "jfgY0jU_2Eru",
        "outputId": "323326fb-7b06-46e1-8075-e0f4d0346c1f"
      },
      "execution_count": null,
      "outputs": [
        {
          "output_type": "stream",
          "name": "stderr",
          "text": [
            "── \u001b[1mAttaching packages\u001b[22m ─────────────────────────────────────── tidyverse 1.3.1 ──\n",
            "\n",
            "\u001b[32m✔\u001b[39m \u001b[34mggplot2\u001b[39m 3.4.2     \u001b[32m✔\u001b[39m \u001b[34mpurrr  \u001b[39m 1.0.1\n",
            "\u001b[32m✔\u001b[39m \u001b[34mtibble \u001b[39m 3.2.1     \u001b[32m✔\u001b[39m \u001b[34mdplyr  \u001b[39m 1.1.2\n",
            "\u001b[32m✔\u001b[39m \u001b[34mtidyr  \u001b[39m 1.3.0     \u001b[32m✔\u001b[39m \u001b[34mstringr\u001b[39m 1.5.0\n",
            "\u001b[32m✔\u001b[39m \u001b[34mreadr  \u001b[39m 2.1.4     \u001b[32m✔\u001b[39m \u001b[34mforcats\u001b[39m 1.0.0\n",
            "\n",
            "── \u001b[1mConflicts\u001b[22m ────────────────────────────────────────── tidyverse_conflicts() ──\n",
            "\u001b[31m✖\u001b[39m \u001b[34mdplyr\u001b[39m::\u001b[32mfilter()\u001b[39m masks \u001b[34mstats\u001b[39m::filter()\n",
            "\u001b[31m✖\u001b[39m \u001b[34mdplyr\u001b[39m::\u001b[32mlag()\u001b[39m    masks \u001b[34mstats\u001b[39m::lag()\n",
            "\n"
          ]
        }
      ]
    },
    {
      "cell_type": "markdown",
      "source": [
        "Loading the datasets"
      ],
      "metadata": {
        "id": "FyvwJXF32WfI"
      }
    },
    {
      "cell_type": "code",
      "source": [
        "daily_activity<-read_csv(\"dailyActivity_merged.csv\")\n",
        "head(daily_activity)"
      ],
      "metadata": {
        "colab": {
          "base_uri": "https://localhost:8080/",
          "height": 445
        },
        "id": "abGjz8Zy2l75",
        "outputId": "588a651d-a806-4ddb-d778-cc83f7e05095"
      },
      "execution_count": null,
      "outputs": [
        {
          "output_type": "stream",
          "name": "stderr",
          "text": [
            "\u001b[1mRows: \u001b[22m\u001b[34m940\u001b[39m \u001b[1mColumns: \u001b[22m\u001b[34m15\u001b[39m\n",
            "\u001b[36m──\u001b[39m \u001b[1mColumn specification\u001b[22m \u001b[36m────────────────────────────────────────────────────────\u001b[39m\n",
            "\u001b[1mDelimiter:\u001b[22m \",\"\n",
            "\u001b[31mchr\u001b[39m  (1): ActivityDate\n",
            "\u001b[32mdbl\u001b[39m (14): Id, TotalSteps, TotalDistance, TrackerDistance, LoggedActivitiesDi...\n",
            "\n",
            "\u001b[36mℹ\u001b[39m Use `spec()` to retrieve the full column specification for this data.\n",
            "\u001b[36mℹ\u001b[39m Specify the column types or set `show_col_types = FALSE` to quiet this message.\n"
          ]
        },
        {
          "output_type": "display_data",
          "data": {
            "text/html": [
              "<table class=\"dataframe\">\n",
              "<caption>A tibble: 6 × 15</caption>\n",
              "<thead>\n",
              "\t<tr><th scope=col>Id</th><th scope=col>ActivityDate</th><th scope=col>TotalSteps</th><th scope=col>TotalDistance</th><th scope=col>TrackerDistance</th><th scope=col>LoggedActivitiesDistance</th><th scope=col>VeryActiveDistance</th><th scope=col>ModeratelyActiveDistance</th><th scope=col>LightActiveDistance</th><th scope=col>SedentaryActiveDistance</th><th scope=col>VeryActiveMinutes</th><th scope=col>FairlyActiveMinutes</th><th scope=col>LightlyActiveMinutes</th><th scope=col>SedentaryMinutes</th><th scope=col>Calories</th></tr>\n",
              "\t<tr><th scope=col>&lt;dbl&gt;</th><th scope=col>&lt;chr&gt;</th><th scope=col>&lt;dbl&gt;</th><th scope=col>&lt;dbl&gt;</th><th scope=col>&lt;dbl&gt;</th><th scope=col>&lt;dbl&gt;</th><th scope=col>&lt;dbl&gt;</th><th scope=col>&lt;dbl&gt;</th><th scope=col>&lt;dbl&gt;</th><th scope=col>&lt;dbl&gt;</th><th scope=col>&lt;dbl&gt;</th><th scope=col>&lt;dbl&gt;</th><th scope=col>&lt;dbl&gt;</th><th scope=col>&lt;dbl&gt;</th><th scope=col>&lt;dbl&gt;</th></tr>\n",
              "</thead>\n",
              "<tbody>\n",
              "\t<tr><td>1503960366</td><td>4/12/2016</td><td>13162</td><td>8.50</td><td>8.50</td><td>0</td><td>1.88</td><td>0.55</td><td>6.06</td><td>0</td><td>25</td><td>13</td><td>328</td><td> 728</td><td>1985</td></tr>\n",
              "\t<tr><td>1503960366</td><td>4/13/2016</td><td>10735</td><td>6.97</td><td>6.97</td><td>0</td><td>1.57</td><td>0.69</td><td>4.71</td><td>0</td><td>21</td><td>19</td><td>217</td><td> 776</td><td>1797</td></tr>\n",
              "\t<tr><td>1503960366</td><td>4/14/2016</td><td>10460</td><td>6.74</td><td>6.74</td><td>0</td><td>2.44</td><td>0.40</td><td>3.91</td><td>0</td><td>30</td><td>11</td><td>181</td><td>1218</td><td>1776</td></tr>\n",
              "\t<tr><td>1503960366</td><td>4/15/2016</td><td> 9762</td><td>6.28</td><td>6.28</td><td>0</td><td>2.14</td><td>1.26</td><td>2.83</td><td>0</td><td>29</td><td>34</td><td>209</td><td> 726</td><td>1745</td></tr>\n",
              "\t<tr><td>1503960366</td><td>4/16/2016</td><td>12669</td><td>8.16</td><td>8.16</td><td>0</td><td>2.71</td><td>0.41</td><td>5.04</td><td>0</td><td>36</td><td>10</td><td>221</td><td> 773</td><td>1863</td></tr>\n",
              "\t<tr><td>1503960366</td><td>4/17/2016</td><td> 9705</td><td>6.48</td><td>6.48</td><td>0</td><td>3.19</td><td>0.78</td><td>2.51</td><td>0</td><td>38</td><td>20</td><td>164</td><td> 539</td><td>1728</td></tr>\n",
              "</tbody>\n",
              "</table>\n"
            ],
            "text/markdown": "\nA tibble: 6 × 15\n\n| Id &lt;dbl&gt; | ActivityDate &lt;chr&gt; | TotalSteps &lt;dbl&gt; | TotalDistance &lt;dbl&gt; | TrackerDistance &lt;dbl&gt; | LoggedActivitiesDistance &lt;dbl&gt; | VeryActiveDistance &lt;dbl&gt; | ModeratelyActiveDistance &lt;dbl&gt; | LightActiveDistance &lt;dbl&gt; | SedentaryActiveDistance &lt;dbl&gt; | VeryActiveMinutes &lt;dbl&gt; | FairlyActiveMinutes &lt;dbl&gt; | LightlyActiveMinutes &lt;dbl&gt; | SedentaryMinutes &lt;dbl&gt; | Calories &lt;dbl&gt; |\n|---|---|---|---|---|---|---|---|---|---|---|---|---|---|---|\n| 1503960366 | 4/12/2016 | 13162 | 8.50 | 8.50 | 0 | 1.88 | 0.55 | 6.06 | 0 | 25 | 13 | 328 |  728 | 1985 |\n| 1503960366 | 4/13/2016 | 10735 | 6.97 | 6.97 | 0 | 1.57 | 0.69 | 4.71 | 0 | 21 | 19 | 217 |  776 | 1797 |\n| 1503960366 | 4/14/2016 | 10460 | 6.74 | 6.74 | 0 | 2.44 | 0.40 | 3.91 | 0 | 30 | 11 | 181 | 1218 | 1776 |\n| 1503960366 | 4/15/2016 |  9762 | 6.28 | 6.28 | 0 | 2.14 | 1.26 | 2.83 | 0 | 29 | 34 | 209 |  726 | 1745 |\n| 1503960366 | 4/16/2016 | 12669 | 8.16 | 8.16 | 0 | 2.71 | 0.41 | 5.04 | 0 | 36 | 10 | 221 |  773 | 1863 |\n| 1503960366 | 4/17/2016 |  9705 | 6.48 | 6.48 | 0 | 3.19 | 0.78 | 2.51 | 0 | 38 | 20 | 164 |  539 | 1728 |\n\n",
            "text/latex": "A tibble: 6 × 15\n\\begin{tabular}{lllllllllllllll}\n Id & ActivityDate & TotalSteps & TotalDistance & TrackerDistance & LoggedActivitiesDistance & VeryActiveDistance & ModeratelyActiveDistance & LightActiveDistance & SedentaryActiveDistance & VeryActiveMinutes & FairlyActiveMinutes & LightlyActiveMinutes & SedentaryMinutes & Calories\\\\\n <dbl> & <chr> & <dbl> & <dbl> & <dbl> & <dbl> & <dbl> & <dbl> & <dbl> & <dbl> & <dbl> & <dbl> & <dbl> & <dbl> & <dbl>\\\\\n\\hline\n\t 1503960366 & 4/12/2016 & 13162 & 8.50 & 8.50 & 0 & 1.88 & 0.55 & 6.06 & 0 & 25 & 13 & 328 &  728 & 1985\\\\\n\t 1503960366 & 4/13/2016 & 10735 & 6.97 & 6.97 & 0 & 1.57 & 0.69 & 4.71 & 0 & 21 & 19 & 217 &  776 & 1797\\\\\n\t 1503960366 & 4/14/2016 & 10460 & 6.74 & 6.74 & 0 & 2.44 & 0.40 & 3.91 & 0 & 30 & 11 & 181 & 1218 & 1776\\\\\n\t 1503960366 & 4/15/2016 &  9762 & 6.28 & 6.28 & 0 & 2.14 & 1.26 & 2.83 & 0 & 29 & 34 & 209 &  726 & 1745\\\\\n\t 1503960366 & 4/16/2016 & 12669 & 8.16 & 8.16 & 0 & 2.71 & 0.41 & 5.04 & 0 & 36 & 10 & 221 &  773 & 1863\\\\\n\t 1503960366 & 4/17/2016 &  9705 & 6.48 & 6.48 & 0 & 3.19 & 0.78 & 2.51 & 0 & 38 & 20 & 164 &  539 & 1728\\\\\n\\end{tabular}\n",
            "text/plain": [
              "  Id         ActivityDate TotalSteps TotalDistance TrackerDistance\n",
              "1 1503960366 4/12/2016    13162      8.50          8.50           \n",
              "2 1503960366 4/13/2016    10735      6.97          6.97           \n",
              "3 1503960366 4/14/2016    10460      6.74          6.74           \n",
              "4 1503960366 4/15/2016     9762      6.28          6.28           \n",
              "5 1503960366 4/16/2016    12669      8.16          8.16           \n",
              "6 1503960366 4/17/2016     9705      6.48          6.48           \n",
              "  LoggedActivitiesDistance VeryActiveDistance ModeratelyActiveDistance\n",
              "1 0                        1.88               0.55                    \n",
              "2 0                        1.57               0.69                    \n",
              "3 0                        2.44               0.40                    \n",
              "4 0                        2.14               1.26                    \n",
              "5 0                        2.71               0.41                    \n",
              "6 0                        3.19               0.78                    \n",
              "  LightActiveDistance SedentaryActiveDistance VeryActiveMinutes\n",
              "1 6.06                0                       25               \n",
              "2 4.71                0                       21               \n",
              "3 3.91                0                       30               \n",
              "4 2.83                0                       29               \n",
              "5 5.04                0                       36               \n",
              "6 2.51                0                       38               \n",
              "  FairlyActiveMinutes LightlyActiveMinutes SedentaryMinutes Calories\n",
              "1 13                  328                   728             1985    \n",
              "2 19                  217                   776             1797    \n",
              "3 11                  181                  1218             1776    \n",
              "4 34                  209                   726             1745    \n",
              "5 10                  221                   773             1863    \n",
              "6 20                  164                   539             1728    "
            ]
          },
          "metadata": {}
        }
      ]
    },
    {
      "cell_type": "code",
      "source": [
        "daily_calories<-read_csv(\"dailyCalories_merged.csv\")\n",
        "head(daily_calories)"
      ],
      "metadata": {
        "colab": {
          "base_uri": "https://localhost:8080/",
          "height": 425
        },
        "id": "oeyTAF5G4W_H",
        "outputId": "b4352dc0-b693-448d-c377-232fbf12013f"
      },
      "execution_count": null,
      "outputs": [
        {
          "output_type": "stream",
          "name": "stderr",
          "text": [
            "\u001b[1mRows: \u001b[22m\u001b[34m940\u001b[39m \u001b[1mColumns: \u001b[22m\u001b[34m3\u001b[39m\n",
            "\u001b[36m──\u001b[39m \u001b[1mColumn specification\u001b[22m \u001b[36m────────────────────────────────────────────────────────\u001b[39m\n",
            "\u001b[1mDelimiter:\u001b[22m \",\"\n",
            "\u001b[31mchr\u001b[39m (1): ActivityDay\n",
            "\u001b[32mdbl\u001b[39m (2): Id, Calories\n",
            "\n",
            "\u001b[36mℹ\u001b[39m Use `spec()` to retrieve the full column specification for this data.\n",
            "\u001b[36mℹ\u001b[39m Specify the column types or set `show_col_types = FALSE` to quiet this message.\n"
          ]
        },
        {
          "output_type": "display_data",
          "data": {
            "text/html": [
              "<table class=\"dataframe\">\n",
              "<caption>A tibble: 6 × 3</caption>\n",
              "<thead>\n",
              "\t<tr><th scope=col>Id</th><th scope=col>ActivityDay</th><th scope=col>Calories</th></tr>\n",
              "\t<tr><th scope=col>&lt;dbl&gt;</th><th scope=col>&lt;chr&gt;</th><th scope=col>&lt;dbl&gt;</th></tr>\n",
              "</thead>\n",
              "<tbody>\n",
              "\t<tr><td>1503960366</td><td>4/12/2016</td><td>1985</td></tr>\n",
              "\t<tr><td>1503960366</td><td>4/13/2016</td><td>1797</td></tr>\n",
              "\t<tr><td>1503960366</td><td>4/14/2016</td><td>1776</td></tr>\n",
              "\t<tr><td>1503960366</td><td>4/15/2016</td><td>1745</td></tr>\n",
              "\t<tr><td>1503960366</td><td>4/16/2016</td><td>1863</td></tr>\n",
              "\t<tr><td>1503960366</td><td>4/17/2016</td><td>1728</td></tr>\n",
              "</tbody>\n",
              "</table>\n"
            ],
            "text/markdown": "\nA tibble: 6 × 3\n\n| Id &lt;dbl&gt; | ActivityDay &lt;chr&gt; | Calories &lt;dbl&gt; |\n|---|---|---|\n| 1503960366 | 4/12/2016 | 1985 |\n| 1503960366 | 4/13/2016 | 1797 |\n| 1503960366 | 4/14/2016 | 1776 |\n| 1503960366 | 4/15/2016 | 1745 |\n| 1503960366 | 4/16/2016 | 1863 |\n| 1503960366 | 4/17/2016 | 1728 |\n\n",
            "text/latex": "A tibble: 6 × 3\n\\begin{tabular}{lll}\n Id & ActivityDay & Calories\\\\\n <dbl> & <chr> & <dbl>\\\\\n\\hline\n\t 1503960366 & 4/12/2016 & 1985\\\\\n\t 1503960366 & 4/13/2016 & 1797\\\\\n\t 1503960366 & 4/14/2016 & 1776\\\\\n\t 1503960366 & 4/15/2016 & 1745\\\\\n\t 1503960366 & 4/16/2016 & 1863\\\\\n\t 1503960366 & 4/17/2016 & 1728\\\\\n\\end{tabular}\n",
            "text/plain": [
              "  Id         ActivityDay Calories\n",
              "1 1503960366 4/12/2016   1985    \n",
              "2 1503960366 4/13/2016   1797    \n",
              "3 1503960366 4/14/2016   1776    \n",
              "4 1503960366 4/15/2016   1745    \n",
              "5 1503960366 4/16/2016   1863    \n",
              "6 1503960366 4/17/2016   1728    "
            ]
          },
          "metadata": {}
        }
      ]
    },
    {
      "cell_type": "code",
      "source": [
        "daily_calories<-read_csv(\"dailyCalories_merged.csv\")\n",
        "head(daily_calories)"
      ],
      "metadata": {
        "colab": {
          "base_uri": "https://localhost:8080/",
          "height": 425
        },
        "id": "uulKPDJm4iF2",
        "outputId": "b51b8cf1-91eb-4537-c0e6-d5a9343ab392"
      },
      "execution_count": null,
      "outputs": [
        {
          "output_type": "stream",
          "name": "stderr",
          "text": [
            "\u001b[1mRows: \u001b[22m\u001b[34m940\u001b[39m \u001b[1mColumns: \u001b[22m\u001b[34m3\u001b[39m\n",
            "\u001b[36m──\u001b[39m \u001b[1mColumn specification\u001b[22m \u001b[36m────────────────────────────────────────────────────────\u001b[39m\n",
            "\u001b[1mDelimiter:\u001b[22m \",\"\n",
            "\u001b[31mchr\u001b[39m (1): ActivityDay\n",
            "\u001b[32mdbl\u001b[39m (2): Id, Calories\n",
            "\n",
            "\u001b[36mℹ\u001b[39m Use `spec()` to retrieve the full column specification for this data.\n",
            "\u001b[36mℹ\u001b[39m Specify the column types or set `show_col_types = FALSE` to quiet this message.\n"
          ]
        },
        {
          "output_type": "display_data",
          "data": {
            "text/html": [
              "<table class=\"dataframe\">\n",
              "<caption>A tibble: 6 × 3</caption>\n",
              "<thead>\n",
              "\t<tr><th scope=col>Id</th><th scope=col>ActivityDay</th><th scope=col>Calories</th></tr>\n",
              "\t<tr><th scope=col>&lt;dbl&gt;</th><th scope=col>&lt;chr&gt;</th><th scope=col>&lt;dbl&gt;</th></tr>\n",
              "</thead>\n",
              "<tbody>\n",
              "\t<tr><td>1503960366</td><td>4/12/2016</td><td>1985</td></tr>\n",
              "\t<tr><td>1503960366</td><td>4/13/2016</td><td>1797</td></tr>\n",
              "\t<tr><td>1503960366</td><td>4/14/2016</td><td>1776</td></tr>\n",
              "\t<tr><td>1503960366</td><td>4/15/2016</td><td>1745</td></tr>\n",
              "\t<tr><td>1503960366</td><td>4/16/2016</td><td>1863</td></tr>\n",
              "\t<tr><td>1503960366</td><td>4/17/2016</td><td>1728</td></tr>\n",
              "</tbody>\n",
              "</table>\n"
            ],
            "text/markdown": "\nA tibble: 6 × 3\n\n| Id &lt;dbl&gt; | ActivityDay &lt;chr&gt; | Calories &lt;dbl&gt; |\n|---|---|---|\n| 1503960366 | 4/12/2016 | 1985 |\n| 1503960366 | 4/13/2016 | 1797 |\n| 1503960366 | 4/14/2016 | 1776 |\n| 1503960366 | 4/15/2016 | 1745 |\n| 1503960366 | 4/16/2016 | 1863 |\n| 1503960366 | 4/17/2016 | 1728 |\n\n",
            "text/latex": "A tibble: 6 × 3\n\\begin{tabular}{lll}\n Id & ActivityDay & Calories\\\\\n <dbl> & <chr> & <dbl>\\\\\n\\hline\n\t 1503960366 & 4/12/2016 & 1985\\\\\n\t 1503960366 & 4/13/2016 & 1797\\\\\n\t 1503960366 & 4/14/2016 & 1776\\\\\n\t 1503960366 & 4/15/2016 & 1745\\\\\n\t 1503960366 & 4/16/2016 & 1863\\\\\n\t 1503960366 & 4/17/2016 & 1728\\\\\n\\end{tabular}\n",
            "text/plain": [
              "  Id         ActivityDay Calories\n",
              "1 1503960366 4/12/2016   1985    \n",
              "2 1503960366 4/13/2016   1797    \n",
              "3 1503960366 4/14/2016   1776    \n",
              "4 1503960366 4/15/2016   1745    \n",
              "5 1503960366 4/16/2016   1863    \n",
              "6 1503960366 4/17/2016   1728    "
            ]
          },
          "metadata": {}
        }
      ]
    },
    {
      "cell_type": "code",
      "source": [
        "daily_intensities<-read_csv(\"dailyIntensities_merged.csv\")\n",
        "head(daily_intensities)"
      ],
      "metadata": {
        "colab": {
          "base_uri": "https://localhost:8080/",
          "height": 445
        },
        "id": "xG07_70Z5buz",
        "outputId": "4f8085d9-f187-4454-f64d-4c266faf8f35"
      },
      "execution_count": null,
      "outputs": [
        {
          "output_type": "stream",
          "name": "stderr",
          "text": [
            "\u001b[1mRows: \u001b[22m\u001b[34m940\u001b[39m \u001b[1mColumns: \u001b[22m\u001b[34m10\u001b[39m\n",
            "\u001b[36m──\u001b[39m \u001b[1mColumn specification\u001b[22m \u001b[36m────────────────────────────────────────────────────────\u001b[39m\n",
            "\u001b[1mDelimiter:\u001b[22m \",\"\n",
            "\u001b[31mchr\u001b[39m (1): ActivityDay\n",
            "\u001b[32mdbl\u001b[39m (9): Id, SedentaryMinutes, LightlyActiveMinutes, FairlyActiveMinutes, Ve...\n",
            "\n",
            "\u001b[36mℹ\u001b[39m Use `spec()` to retrieve the full column specification for this data.\n",
            "\u001b[36mℹ\u001b[39m Specify the column types or set `show_col_types = FALSE` to quiet this message.\n"
          ]
        },
        {
          "output_type": "display_data",
          "data": {
            "text/html": [
              "<table class=\"dataframe\">\n",
              "<caption>A tibble: 6 × 10</caption>\n",
              "<thead>\n",
              "\t<tr><th scope=col>Id</th><th scope=col>ActivityDay</th><th scope=col>SedentaryMinutes</th><th scope=col>LightlyActiveMinutes</th><th scope=col>FairlyActiveMinutes</th><th scope=col>VeryActiveMinutes</th><th scope=col>SedentaryActiveDistance</th><th scope=col>LightActiveDistance</th><th scope=col>ModeratelyActiveDistance</th><th scope=col>VeryActiveDistance</th></tr>\n",
              "\t<tr><th scope=col>&lt;dbl&gt;</th><th scope=col>&lt;chr&gt;</th><th scope=col>&lt;dbl&gt;</th><th scope=col>&lt;dbl&gt;</th><th scope=col>&lt;dbl&gt;</th><th scope=col>&lt;dbl&gt;</th><th scope=col>&lt;dbl&gt;</th><th scope=col>&lt;dbl&gt;</th><th scope=col>&lt;dbl&gt;</th><th scope=col>&lt;dbl&gt;</th></tr>\n",
              "</thead>\n",
              "<tbody>\n",
              "\t<tr><td>1503960366</td><td>4/12/2016</td><td> 728</td><td>328</td><td>13</td><td>25</td><td>0</td><td>6.06</td><td>0.55</td><td>1.88</td></tr>\n",
              "\t<tr><td>1503960366</td><td>4/13/2016</td><td> 776</td><td>217</td><td>19</td><td>21</td><td>0</td><td>4.71</td><td>0.69</td><td>1.57</td></tr>\n",
              "\t<tr><td>1503960366</td><td>4/14/2016</td><td>1218</td><td>181</td><td>11</td><td>30</td><td>0</td><td>3.91</td><td>0.40</td><td>2.44</td></tr>\n",
              "\t<tr><td>1503960366</td><td>4/15/2016</td><td> 726</td><td>209</td><td>34</td><td>29</td><td>0</td><td>2.83</td><td>1.26</td><td>2.14</td></tr>\n",
              "\t<tr><td>1503960366</td><td>4/16/2016</td><td> 773</td><td>221</td><td>10</td><td>36</td><td>0</td><td>5.04</td><td>0.41</td><td>2.71</td></tr>\n",
              "\t<tr><td>1503960366</td><td>4/17/2016</td><td> 539</td><td>164</td><td>20</td><td>38</td><td>0</td><td>2.51</td><td>0.78</td><td>3.19</td></tr>\n",
              "</tbody>\n",
              "</table>\n"
            ],
            "text/markdown": "\nA tibble: 6 × 10\n\n| Id &lt;dbl&gt; | ActivityDay &lt;chr&gt; | SedentaryMinutes &lt;dbl&gt; | LightlyActiveMinutes &lt;dbl&gt; | FairlyActiveMinutes &lt;dbl&gt; | VeryActiveMinutes &lt;dbl&gt; | SedentaryActiveDistance &lt;dbl&gt; | LightActiveDistance &lt;dbl&gt; | ModeratelyActiveDistance &lt;dbl&gt; | VeryActiveDistance &lt;dbl&gt; |\n|---|---|---|---|---|---|---|---|---|---|\n| 1503960366 | 4/12/2016 |  728 | 328 | 13 | 25 | 0 | 6.06 | 0.55 | 1.88 |\n| 1503960366 | 4/13/2016 |  776 | 217 | 19 | 21 | 0 | 4.71 | 0.69 | 1.57 |\n| 1503960366 | 4/14/2016 | 1218 | 181 | 11 | 30 | 0 | 3.91 | 0.40 | 2.44 |\n| 1503960366 | 4/15/2016 |  726 | 209 | 34 | 29 | 0 | 2.83 | 1.26 | 2.14 |\n| 1503960366 | 4/16/2016 |  773 | 221 | 10 | 36 | 0 | 5.04 | 0.41 | 2.71 |\n| 1503960366 | 4/17/2016 |  539 | 164 | 20 | 38 | 0 | 2.51 | 0.78 | 3.19 |\n\n",
            "text/latex": "A tibble: 6 × 10\n\\begin{tabular}{llllllllll}\n Id & ActivityDay & SedentaryMinutes & LightlyActiveMinutes & FairlyActiveMinutes & VeryActiveMinutes & SedentaryActiveDistance & LightActiveDistance & ModeratelyActiveDistance & VeryActiveDistance\\\\\n <dbl> & <chr> & <dbl> & <dbl> & <dbl> & <dbl> & <dbl> & <dbl> & <dbl> & <dbl>\\\\\n\\hline\n\t 1503960366 & 4/12/2016 &  728 & 328 & 13 & 25 & 0 & 6.06 & 0.55 & 1.88\\\\\n\t 1503960366 & 4/13/2016 &  776 & 217 & 19 & 21 & 0 & 4.71 & 0.69 & 1.57\\\\\n\t 1503960366 & 4/14/2016 & 1218 & 181 & 11 & 30 & 0 & 3.91 & 0.40 & 2.44\\\\\n\t 1503960366 & 4/15/2016 &  726 & 209 & 34 & 29 & 0 & 2.83 & 1.26 & 2.14\\\\\n\t 1503960366 & 4/16/2016 &  773 & 221 & 10 & 36 & 0 & 5.04 & 0.41 & 2.71\\\\\n\t 1503960366 & 4/17/2016 &  539 & 164 & 20 & 38 & 0 & 2.51 & 0.78 & 3.19\\\\\n\\end{tabular}\n",
            "text/plain": [
              "  Id         ActivityDay SedentaryMinutes LightlyActiveMinutes\n",
              "1 1503960366 4/12/2016    728             328                 \n",
              "2 1503960366 4/13/2016    776             217                 \n",
              "3 1503960366 4/14/2016   1218             181                 \n",
              "4 1503960366 4/15/2016    726             209                 \n",
              "5 1503960366 4/16/2016    773             221                 \n",
              "6 1503960366 4/17/2016    539             164                 \n",
              "  FairlyActiveMinutes VeryActiveMinutes SedentaryActiveDistance\n",
              "1 13                  25                0                      \n",
              "2 19                  21                0                      \n",
              "3 11                  30                0                      \n",
              "4 34                  29                0                      \n",
              "5 10                  36                0                      \n",
              "6 20                  38                0                      \n",
              "  LightActiveDistance ModeratelyActiveDistance VeryActiveDistance\n",
              "1 6.06                0.55                     1.88              \n",
              "2 4.71                0.69                     1.57              \n",
              "3 3.91                0.40                     2.44              \n",
              "4 2.83                1.26                     2.14              \n",
              "5 5.04                0.41                     2.71              \n",
              "6 2.51                0.78                     3.19              "
            ]
          },
          "metadata": {}
        }
      ]
    },
    {
      "cell_type": "code",
      "source": [
        "daily_steps<-read_csv(\"dailySteps_merged.csv\")\n",
        "head(daily_steps)"
      ],
      "metadata": {
        "colab": {
          "base_uri": "https://localhost:8080/",
          "height": 425
        },
        "id": "w-FOtbDL596K",
        "outputId": "31de38a5-1599-4436-d74d-3a7a6bc84223"
      },
      "execution_count": null,
      "outputs": [
        {
          "output_type": "stream",
          "name": "stderr",
          "text": [
            "\u001b[1mRows: \u001b[22m\u001b[34m940\u001b[39m \u001b[1mColumns: \u001b[22m\u001b[34m3\u001b[39m\n",
            "\u001b[36m──\u001b[39m \u001b[1mColumn specification\u001b[22m \u001b[36m────────────────────────────────────────────────────────\u001b[39m\n",
            "\u001b[1mDelimiter:\u001b[22m \",\"\n",
            "\u001b[31mchr\u001b[39m (1): ActivityDay\n",
            "\u001b[32mdbl\u001b[39m (2): Id, StepTotal\n",
            "\n",
            "\u001b[36mℹ\u001b[39m Use `spec()` to retrieve the full column specification for this data.\n",
            "\u001b[36mℹ\u001b[39m Specify the column types or set `show_col_types = FALSE` to quiet this message.\n"
          ]
        },
        {
          "output_type": "display_data",
          "data": {
            "text/html": [
              "<table class=\"dataframe\">\n",
              "<caption>A tibble: 6 × 3</caption>\n",
              "<thead>\n",
              "\t<tr><th scope=col>Id</th><th scope=col>ActivityDay</th><th scope=col>StepTotal</th></tr>\n",
              "\t<tr><th scope=col>&lt;dbl&gt;</th><th scope=col>&lt;chr&gt;</th><th scope=col>&lt;dbl&gt;</th></tr>\n",
              "</thead>\n",
              "<tbody>\n",
              "\t<tr><td>1503960366</td><td>4/12/2016</td><td>13162</td></tr>\n",
              "\t<tr><td>1503960366</td><td>4/13/2016</td><td>10735</td></tr>\n",
              "\t<tr><td>1503960366</td><td>4/14/2016</td><td>10460</td></tr>\n",
              "\t<tr><td>1503960366</td><td>4/15/2016</td><td> 9762</td></tr>\n",
              "\t<tr><td>1503960366</td><td>4/16/2016</td><td>12669</td></tr>\n",
              "\t<tr><td>1503960366</td><td>4/17/2016</td><td> 9705</td></tr>\n",
              "</tbody>\n",
              "</table>\n"
            ],
            "text/markdown": "\nA tibble: 6 × 3\n\n| Id &lt;dbl&gt; | ActivityDay &lt;chr&gt; | StepTotal &lt;dbl&gt; |\n|---|---|---|\n| 1503960366 | 4/12/2016 | 13162 |\n| 1503960366 | 4/13/2016 | 10735 |\n| 1503960366 | 4/14/2016 | 10460 |\n| 1503960366 | 4/15/2016 |  9762 |\n| 1503960366 | 4/16/2016 | 12669 |\n| 1503960366 | 4/17/2016 |  9705 |\n\n",
            "text/latex": "A tibble: 6 × 3\n\\begin{tabular}{lll}\n Id & ActivityDay & StepTotal\\\\\n <dbl> & <chr> & <dbl>\\\\\n\\hline\n\t 1503960366 & 4/12/2016 & 13162\\\\\n\t 1503960366 & 4/13/2016 & 10735\\\\\n\t 1503960366 & 4/14/2016 & 10460\\\\\n\t 1503960366 & 4/15/2016 &  9762\\\\\n\t 1503960366 & 4/16/2016 & 12669\\\\\n\t 1503960366 & 4/17/2016 &  9705\\\\\n\\end{tabular}\n",
            "text/plain": [
              "  Id         ActivityDay StepTotal\n",
              "1 1503960366 4/12/2016   13162    \n",
              "2 1503960366 4/13/2016   10735    \n",
              "3 1503960366 4/14/2016   10460    \n",
              "4 1503960366 4/15/2016    9762    \n",
              "5 1503960366 4/16/2016   12669    \n",
              "6 1503960366 4/17/2016    9705    "
            ]
          },
          "metadata": {}
        }
      ]
    },
    {
      "cell_type": "code",
      "source": [
        "heartrate_seconds<-read_csv(\"heartrate_seconds_merged.csv\")\n",
        "head(heartrate_seconds)"
      ],
      "metadata": {
        "colab": {
          "base_uri": "https://localhost:8080/",
          "height": 425
        },
        "id": "GXoE-Oz16k2w",
        "outputId": "8b41607b-66e7-4bba-be5a-71244cf91311"
      },
      "execution_count": null,
      "outputs": [
        {
          "output_type": "stream",
          "name": "stderr",
          "text": [
            "\u001b[1mRows: \u001b[22m\u001b[34m2411930\u001b[39m \u001b[1mColumns: \u001b[22m\u001b[34m3\u001b[39m\n",
            "\u001b[36m──\u001b[39m \u001b[1mColumn specification\u001b[22m \u001b[36m────────────────────────────────────────────────────────\u001b[39m\n",
            "\u001b[1mDelimiter:\u001b[22m \",\"\n",
            "\u001b[31mchr\u001b[39m (1): Time\n",
            "\u001b[32mdbl\u001b[39m (2): Id, Value\n",
            "\n",
            "\u001b[36mℹ\u001b[39m Use `spec()` to retrieve the full column specification for this data.\n",
            "\u001b[36mℹ\u001b[39m Specify the column types or set `show_col_types = FALSE` to quiet this message.\n"
          ]
        },
        {
          "output_type": "display_data",
          "data": {
            "text/html": [
              "<table class=\"dataframe\">\n",
              "<caption>A tibble: 6 × 3</caption>\n",
              "<thead>\n",
              "\t<tr><th scope=col>Id</th><th scope=col>Time</th><th scope=col>Value</th></tr>\n",
              "\t<tr><th scope=col>&lt;dbl&gt;</th><th scope=col>&lt;chr&gt;</th><th scope=col>&lt;dbl&gt;</th></tr>\n",
              "</thead>\n",
              "<tbody>\n",
              "\t<tr><td>2022484408</td><td>4/12/2016 7:21:00 AM</td><td> 97</td></tr>\n",
              "\t<tr><td>2022484408</td><td>4/12/2016 7:21:05 AM</td><td>102</td></tr>\n",
              "\t<tr><td>2022484408</td><td>4/12/2016 7:21:10 AM</td><td>105</td></tr>\n",
              "\t<tr><td>2022484408</td><td>4/12/2016 7:21:20 AM</td><td>103</td></tr>\n",
              "\t<tr><td>2022484408</td><td>4/12/2016 7:21:25 AM</td><td>101</td></tr>\n",
              "\t<tr><td>2022484408</td><td>4/12/2016 7:22:05 AM</td><td> 95</td></tr>\n",
              "</tbody>\n",
              "</table>\n"
            ],
            "text/markdown": "\nA tibble: 6 × 3\n\n| Id &lt;dbl&gt; | Time &lt;chr&gt; | Value &lt;dbl&gt; |\n|---|---|---|\n| 2022484408 | 4/12/2016 7:21:00 AM |  97 |\n| 2022484408 | 4/12/2016 7:21:05 AM | 102 |\n| 2022484408 | 4/12/2016 7:21:10 AM | 105 |\n| 2022484408 | 4/12/2016 7:21:20 AM | 103 |\n| 2022484408 | 4/12/2016 7:21:25 AM | 101 |\n| 2022484408 | 4/12/2016 7:22:05 AM |  95 |\n\n",
            "text/latex": "A tibble: 6 × 3\n\\begin{tabular}{lll}\n Id & Time & Value\\\\\n <dbl> & <chr> & <dbl>\\\\\n\\hline\n\t 2022484408 & 4/12/2016 7:21:00 AM &  97\\\\\n\t 2022484408 & 4/12/2016 7:21:05 AM & 102\\\\\n\t 2022484408 & 4/12/2016 7:21:10 AM & 105\\\\\n\t 2022484408 & 4/12/2016 7:21:20 AM & 103\\\\\n\t 2022484408 & 4/12/2016 7:21:25 AM & 101\\\\\n\t 2022484408 & 4/12/2016 7:22:05 AM &  95\\\\\n\\end{tabular}\n",
            "text/plain": [
              "  Id         Time                 Value\n",
              "1 2022484408 4/12/2016 7:21:00 AM  97  \n",
              "2 2022484408 4/12/2016 7:21:05 AM 102  \n",
              "3 2022484408 4/12/2016 7:21:10 AM 105  \n",
              "4 2022484408 4/12/2016 7:21:20 AM 103  \n",
              "5 2022484408 4/12/2016 7:21:25 AM 101  \n",
              "6 2022484408 4/12/2016 7:22:05 AM  95  "
            ]
          },
          "metadata": {}
        }
      ]
    },
    {
      "cell_type": "code",
      "source": [
        "hourly_calories<-read_csv(\"hourlyCalories_merged.csv\")\n",
        "head(hourly_calories)"
      ],
      "metadata": {
        "colab": {
          "base_uri": "https://localhost:8080/",
          "height": 425
        },
        "id": "d3ev0_7j7AKu",
        "outputId": "dedd7b87-0110-4b69-d422-59b25010566f"
      },
      "execution_count": null,
      "outputs": [
        {
          "output_type": "stream",
          "name": "stderr",
          "text": [
            "\u001b[1mRows: \u001b[22m\u001b[34m22099\u001b[39m \u001b[1mColumns: \u001b[22m\u001b[34m3\u001b[39m\n",
            "\u001b[36m──\u001b[39m \u001b[1mColumn specification\u001b[22m \u001b[36m────────────────────────────────────────────────────────\u001b[39m\n",
            "\u001b[1mDelimiter:\u001b[22m \",\"\n",
            "\u001b[31mchr\u001b[39m (1): ActivityHour\n",
            "\u001b[32mdbl\u001b[39m (2): Id, Calories\n",
            "\n",
            "\u001b[36mℹ\u001b[39m Use `spec()` to retrieve the full column specification for this data.\n",
            "\u001b[36mℹ\u001b[39m Specify the column types or set `show_col_types = FALSE` to quiet this message.\n"
          ]
        },
        {
          "output_type": "display_data",
          "data": {
            "text/html": [
              "<table class=\"dataframe\">\n",
              "<caption>A tibble: 6 × 3</caption>\n",
              "<thead>\n",
              "\t<tr><th scope=col>Id</th><th scope=col>ActivityHour</th><th scope=col>Calories</th></tr>\n",
              "\t<tr><th scope=col>&lt;dbl&gt;</th><th scope=col>&lt;chr&gt;</th><th scope=col>&lt;dbl&gt;</th></tr>\n",
              "</thead>\n",
              "<tbody>\n",
              "\t<tr><td>1503960366</td><td>4/12/2016 12:00:00 AM</td><td>81</td></tr>\n",
              "\t<tr><td>1503960366</td><td>4/12/2016 1:00:00 AM </td><td>61</td></tr>\n",
              "\t<tr><td>1503960366</td><td>4/12/2016 2:00:00 AM </td><td>59</td></tr>\n",
              "\t<tr><td>1503960366</td><td>4/12/2016 3:00:00 AM </td><td>47</td></tr>\n",
              "\t<tr><td>1503960366</td><td>4/12/2016 4:00:00 AM </td><td>48</td></tr>\n",
              "\t<tr><td>1503960366</td><td>4/12/2016 5:00:00 AM </td><td>48</td></tr>\n",
              "</tbody>\n",
              "</table>\n"
            ],
            "text/markdown": "\nA tibble: 6 × 3\n\n| Id &lt;dbl&gt; | ActivityHour &lt;chr&gt; | Calories &lt;dbl&gt; |\n|---|---|---|\n| 1503960366 | 4/12/2016 12:00:00 AM | 81 |\n| 1503960366 | 4/12/2016 1:00:00 AM  | 61 |\n| 1503960366 | 4/12/2016 2:00:00 AM  | 59 |\n| 1503960366 | 4/12/2016 3:00:00 AM  | 47 |\n| 1503960366 | 4/12/2016 4:00:00 AM  | 48 |\n| 1503960366 | 4/12/2016 5:00:00 AM  | 48 |\n\n",
            "text/latex": "A tibble: 6 × 3\n\\begin{tabular}{lll}\n Id & ActivityHour & Calories\\\\\n <dbl> & <chr> & <dbl>\\\\\n\\hline\n\t 1503960366 & 4/12/2016 12:00:00 AM & 81\\\\\n\t 1503960366 & 4/12/2016 1:00:00 AM  & 61\\\\\n\t 1503960366 & 4/12/2016 2:00:00 AM  & 59\\\\\n\t 1503960366 & 4/12/2016 3:00:00 AM  & 47\\\\\n\t 1503960366 & 4/12/2016 4:00:00 AM  & 48\\\\\n\t 1503960366 & 4/12/2016 5:00:00 AM  & 48\\\\\n\\end{tabular}\n",
            "text/plain": [
              "  Id         ActivityHour          Calories\n",
              "1 1503960366 4/12/2016 12:00:00 AM 81      \n",
              "2 1503960366 4/12/2016 1:00:00 AM  61      \n",
              "3 1503960366 4/12/2016 2:00:00 AM  59      \n",
              "4 1503960366 4/12/2016 3:00:00 AM  47      \n",
              "5 1503960366 4/12/2016 4:00:00 AM  48      \n",
              "6 1503960366 4/12/2016 5:00:00 AM  48      "
            ]
          },
          "metadata": {}
        }
      ]
    },
    {
      "cell_type": "code",
      "source": [
        "hourly_intensities<-read_csv(\"hourlyIntensities_merged.csv\")\n",
        "head(hourly_intensities)"
      ],
      "metadata": {
        "colab": {
          "base_uri": "https://localhost:8080/",
          "height": 425
        },
        "id": "3w23jNT08nrd",
        "outputId": "9881a5a6-44dc-4265-9594-06416e303889"
      },
      "execution_count": null,
      "outputs": [
        {
          "output_type": "stream",
          "name": "stderr",
          "text": [
            "\u001b[1mRows: \u001b[22m\u001b[34m22099\u001b[39m \u001b[1mColumns: \u001b[22m\u001b[34m4\u001b[39m\n",
            "\u001b[36m──\u001b[39m \u001b[1mColumn specification\u001b[22m \u001b[36m────────────────────────────────────────────────────────\u001b[39m\n",
            "\u001b[1mDelimiter:\u001b[22m \",\"\n",
            "\u001b[31mchr\u001b[39m (1): ActivityHour\n",
            "\u001b[32mdbl\u001b[39m (3): Id, TotalIntensity, AverageIntensity\n",
            "\n",
            "\u001b[36mℹ\u001b[39m Use `spec()` to retrieve the full column specification for this data.\n",
            "\u001b[36mℹ\u001b[39m Specify the column types or set `show_col_types = FALSE` to quiet this message.\n"
          ]
        },
        {
          "output_type": "display_data",
          "data": {
            "text/html": [
              "<table class=\"dataframe\">\n",
              "<caption>A tibble: 6 × 4</caption>\n",
              "<thead>\n",
              "\t<tr><th scope=col>Id</th><th scope=col>ActivityHour</th><th scope=col>TotalIntensity</th><th scope=col>AverageIntensity</th></tr>\n",
              "\t<tr><th scope=col>&lt;dbl&gt;</th><th scope=col>&lt;chr&gt;</th><th scope=col>&lt;dbl&gt;</th><th scope=col>&lt;dbl&gt;</th></tr>\n",
              "</thead>\n",
              "<tbody>\n",
              "\t<tr><td>1503960366</td><td>4/12/2016 12:00:00 AM</td><td>20</td><td>0.333333</td></tr>\n",
              "\t<tr><td>1503960366</td><td>4/12/2016 1:00:00 AM </td><td> 8</td><td>0.133333</td></tr>\n",
              "\t<tr><td>1503960366</td><td>4/12/2016 2:00:00 AM </td><td> 7</td><td>0.116667</td></tr>\n",
              "\t<tr><td>1503960366</td><td>4/12/2016 3:00:00 AM </td><td> 0</td><td>0.000000</td></tr>\n",
              "\t<tr><td>1503960366</td><td>4/12/2016 4:00:00 AM </td><td> 0</td><td>0.000000</td></tr>\n",
              "\t<tr><td>1503960366</td><td>4/12/2016 5:00:00 AM </td><td> 0</td><td>0.000000</td></tr>\n",
              "</tbody>\n",
              "</table>\n"
            ],
            "text/markdown": "\nA tibble: 6 × 4\n\n| Id &lt;dbl&gt; | ActivityHour &lt;chr&gt; | TotalIntensity &lt;dbl&gt; | AverageIntensity &lt;dbl&gt; |\n|---|---|---|---|\n| 1503960366 | 4/12/2016 12:00:00 AM | 20 | 0.333333 |\n| 1503960366 | 4/12/2016 1:00:00 AM  |  8 | 0.133333 |\n| 1503960366 | 4/12/2016 2:00:00 AM  |  7 | 0.116667 |\n| 1503960366 | 4/12/2016 3:00:00 AM  |  0 | 0.000000 |\n| 1503960366 | 4/12/2016 4:00:00 AM  |  0 | 0.000000 |\n| 1503960366 | 4/12/2016 5:00:00 AM  |  0 | 0.000000 |\n\n",
            "text/latex": "A tibble: 6 × 4\n\\begin{tabular}{llll}\n Id & ActivityHour & TotalIntensity & AverageIntensity\\\\\n <dbl> & <chr> & <dbl> & <dbl>\\\\\n\\hline\n\t 1503960366 & 4/12/2016 12:00:00 AM & 20 & 0.333333\\\\\n\t 1503960366 & 4/12/2016 1:00:00 AM  &  8 & 0.133333\\\\\n\t 1503960366 & 4/12/2016 2:00:00 AM  &  7 & 0.116667\\\\\n\t 1503960366 & 4/12/2016 3:00:00 AM  &  0 & 0.000000\\\\\n\t 1503960366 & 4/12/2016 4:00:00 AM  &  0 & 0.000000\\\\\n\t 1503960366 & 4/12/2016 5:00:00 AM  &  0 & 0.000000\\\\\n\\end{tabular}\n",
            "text/plain": [
              "  Id         ActivityHour          TotalIntensity AverageIntensity\n",
              "1 1503960366 4/12/2016 12:00:00 AM 20             0.333333        \n",
              "2 1503960366 4/12/2016 1:00:00 AM   8             0.133333        \n",
              "3 1503960366 4/12/2016 2:00:00 AM   7             0.116667        \n",
              "4 1503960366 4/12/2016 3:00:00 AM   0             0.000000        \n",
              "5 1503960366 4/12/2016 4:00:00 AM   0             0.000000        \n",
              "6 1503960366 4/12/2016 5:00:00 AM   0             0.000000        "
            ]
          },
          "metadata": {}
        }
      ]
    },
    {
      "cell_type": "code",
      "source": [],
      "metadata": {
        "id": "TnB32Aeq9H69"
      },
      "execution_count": null,
      "outputs": []
    }
  ]
}